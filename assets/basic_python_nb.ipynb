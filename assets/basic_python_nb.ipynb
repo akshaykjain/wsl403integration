{
 "cells": [
  {
   "cell_type": "code",
   "execution_count": null,
   "id": "ancient-bullet",
   "metadata": {
    "id": "6216d856-7690-4ab4-b44a-3c3e1199926e",
    "tags": []
   },
   "outputs": [],
   "source": [
    "import time\n",
    "\n",
    "seconds = 15\n",
    "current_time = time.ctime()\n",
    "print(\">>>>>>>>>>>>>>>>>>>>>>>>>>>>>>>>>>>>>>>>>>>>>>>>>>>>>>>>>>>>>>>>>>>>>>>>>>>>>\")\n",
    "print(\"Starting Timer at {}\".format(current_time))\n",
    "time.sleep(seconds)\n",
    "print(\"Timer Stopped at {} after running for {} seconds\".format(current_time,seconds))\n",
    "print(\">>>>>>>>>>>>>>>>>>>>>>>>>>>>>>>>>>>>>>>>>>>>>>>>>>>>>>>>>>>>>>>>>>>>>>>>>>>>>\")"
   ]
  }
 ],
 "metadata": {
  "kernelspec": {
   "display_name": "Spark - Python (YARN Cluster Mode)",
   "language": "python3",
   "name": "spark_python_yarn_cluster"
  },
  "language_info": {
   "codemirror_mode": {
    "name": "ipython",
    "version": 3
   },
   "file_extension": ".py",
   "mimetype": "text/x-python",
   "name": "python",
   "nbconvert_exporter": "python",
   "pygments_lexer": "ipython3",
   "version": "3.7.9"
  }
 },
 "nbformat": 4,
 "nbformat_minor": 5
}
